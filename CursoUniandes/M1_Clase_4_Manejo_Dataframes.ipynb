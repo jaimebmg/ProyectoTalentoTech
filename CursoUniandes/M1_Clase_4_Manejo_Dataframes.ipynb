{
 "cells": [
  {
   "cell_type": "markdown",
   "metadata": {},
   "source": [
    "# **Análisis de Datos con ```pandas``` y DataFrames**\n",
    "\n",
    "## **Introducción**\n",
    "\n",
    "En este notebook, aprenderemos sobre el manejo de dataframes utilizando la biblioteca **pandas** en Python. Los DataFrames son una estructura de datos fundamental en la analítica de datos y el análisis exploratorio. A lo largo de este material, cubriremos desde la creación de DataFrames hasta su manipulación y las uniones entre diferentes DataFrames, utilizando el conocido dataset del Titanic."
   ]
  },
  {
   "cell_type": "markdown",
   "metadata": {},
   "source": [
    "### Contenido Detallado\n",
    "\n",
    "1. **Introducción a DataFrames y pandas**\n",
    "   - Instalación y configuración de pandas\n",
    "   - Creación de DataFrames desde listas, diccionarios, archivos CSV y archivos Excel\n",
    "   - Métodos para cargar archivos de diferentes formatos\n",
    "\n",
    "2. **Selección y Filtrado de Datos**\n",
    "   - Selección con `loc` e `iloc`\n",
    "   - Filtrado de datos usando condiciones booleanas\n",
    "\n",
    "3. **Manipulación de DataFrames**\n",
    "   - Agregar y eliminar columnas/filas\n",
    "   - Renombrar columnas\n",
    "\n",
    "4. **Transformaciones y Agrupaciones**\n",
    "   - Aplicar funciones (`apply`, `map`)\n",
    "   - Agrupación de datos (`groupby`)\n",
    "\n",
    "5. **Uniones de DataFrames**\n",
    "   - Tipos de uniones (inner, outer, left, right)\n",
    "\n",
    "6. **Ejercicios y Tareas**\n",
    "   - Ejercicios prácticos para cada sección"
   ]
  },
  {
   "cell_type": "markdown",
   "metadata": {},
   "source": [
    "## 1. **Introducción a DataFrames y pandas**"
   ]
  },
  {
   "cell_type": "markdown",
   "metadata": {},
   "source": [
    "## ¿Qué es pandas?\n",
    "\n",
    "**pandas** es una biblioteca de Python especializada en la manipulación y análisis de datos. Ofrece estructuras de datos y operaciones para manipular tablas numéricas y series temporales de manera eficiente y fácil de usar. La estructura de datos principal de pandas es el **DataFrame**, que se puede considerar como una tabla en una base de datos o una hoja de cálculo en Excel.\n",
    "\n",
    "### DataFrames\n",
    "\n",
    "Un **DataFrame** es una estructura de datos bidimensional, similar a una tabla, donde cada columna puede ser de un tipo de dato diferente (numérico, texto, booleano, etc.). Los DataFrames son flexibles y eficientes, lo que los hace ideales para una amplia variedad de tareas de análisis de datos.\n",
    "\n",
    "#### Importancia en la Analítica de Datos\n",
    "\n",
    "- **Manipulación de Datos:** Los DataFrames permiten realizar operaciones complejas de manipulación de datos de manera sencilla y rápida.\n",
    "- **Análisis Exploratorio:** Facilitan el análisis exploratorio de datos, permitiendo filtrar, agrupar y resumir datos con facilidad.\n",
    "- **Integración:** pandas se integra bien con otras bibliotecas de Python, como NumPy para operaciones numéricas y Matplotlib para visualizaciones.\n",
    "- **Limpieza de Datos:** Proporciona herramientas para manejar valores nulos, duplicados y otros problemas comunes en los datasets."
   ]
  },
  {
   "cell_type": "markdown",
   "metadata": {},
   "source": [
    "Comenzaremos instalando la librería de ```pandas```"
   ]
  },
  {
   "cell_type": "code",
   "execution_count": null,
   "metadata": {},
   "outputs": [],
   "source": [
    "# Instalación de pandas\n",
    "!pip install pandas"
   ]
  },
  {
   "cell_type": "code",
   "execution_count": null,
   "metadata": {},
   "outputs": [],
   "source": [
    "# Importación de la biblioteca\n",
    "import pandas as pd"
   ]
  },
  {
   "cell_type": "code",
   "execution_count": null,
   "metadata": {},
   "outputs": [],
   "source": [
    "# Creación de DataFrames desde listas\n",
    "# Creamos una lista de listas donde cada lista interna representa una fila del DataFrame\n",
    "data = [\n",
    "    ['Alice', 25], \n",
    "    ['Bob', 30],\n",
    "    ['Charlie', 35]\n",
    "]\n",
    "df_list = pd.DataFrame(data, columns=['Name', 'Age'])\n",
    "print(\"DataFrame creado desde listas:\\n\", df_list)"
   ]
  },
  {
   "cell_type": "code",
   "execution_count": null,
   "metadata": {},
   "outputs": [],
   "source": [
    "# Creación de DataFrames desde diccionarios\n",
    "# Creamos un diccionario donde las claves son los nombres de las columnas y los valores son listas con los datos\n",
    "data = {\n",
    "    'Name': ['Alice', 'Bob', 'Charlie'], \n",
    "    'Age': [25, 30, 35]\n",
    "    }\n",
    "df_dict = pd.DataFrame(data)\n",
    "print(\"\\nDataFrame creado desde diccionarios:\\n\", df_dict)"
   ]
  },
  {
   "cell_type": "code",
   "execution_count": null,
   "metadata": {},
   "outputs": [],
   "source": [
    "# Creación de DataFrames desde un archivo CSV\n",
    "# Utilizamos el método read_csv para cargar los datos desde un archivo CSV\n",
    "df_csv = pd.read_csv('Titanic.csv')\n",
    "print(\"\\nDataFrame creado desde un archivo CSV:\\n\", df_csv.head())"
   ]
  },
  {
   "cell_type": "markdown",
   "metadata": {},
   "source": [
    "### Métodos para cargar dataframes a partir de diferentes tipos de archivos\n",
    "\n",
    "- pd.read_csv('archivo.csv'): Carga datos desde un archivo CSV.\n",
    "- pd.read_excel('archivo.xlsx'): Carga datos desde un archivo Excel.\n",
    "- pd.read_json('archivo.json'): Carga datos desde un archivo JSON.\n",
    "- pd.read_html('archivo.html'): Carga datos desde tablas en un archivo HTML.\n",
    "- pd.read_sql('consulta_sql', conexion): Carga datos desde una base de datos utilizando una consulta SQL."
   ]
  },
  {
   "cell_type": "markdown",
   "metadata": {},
   "source": [
    "## 2. **Selección y Filtrado de Datos**\n",
    "\n",
    "En esta sección, aprenderemos cómo seleccionar columnas y filas específicas de un DataFrame, así como filtrar datos basados en una o más condiciones. Estas operaciones son fundamentales para explorar y manipular conjuntos de datos de manera eficiente.\n",
    "\n",
    "### Selección de Columnas\n",
    "\n",
    "Podemos seleccionar una o varias columnas de un DataFrame utilizando el nombre de las columnas."
   ]
  },
  {
   "cell_type": "code",
   "execution_count": null,
   "metadata": {},
   "outputs": [],
   "source": [
    "# Creación de un DataFrame de ejemplo\n",
    "data = {'Name': ['Alice', 'Bob', 'Charlie'], 'Age': [25, 30, 35], 'Gender': ['F', 'M', 'M']}\n",
    "df = pd.DataFrame(data)\n",
    "print(df)"
   ]
  },
  {
   "cell_type": "code",
   "execution_count": null,
   "metadata": {},
   "outputs": [],
   "source": [
    "# Selección de una sola columna\n",
    "df['Name']"
   ]
  },
  {
   "cell_type": "code",
   "execution_count": null,
   "metadata": {},
   "outputs": [],
   "source": [
    "# Selección de múltiples columnas\n",
    "df[['Name', 'Age']]"
   ]
  },
  {
   "cell_type": "markdown",
   "metadata": {},
   "source": [
    "### Selección de Filas\n",
    "\n",
    "Podemos seleccionar filas específicas utilizando los métodos loc e iloc.\n",
    "\n",
    "- `loc` selecciona filas y columnas por etiquetas.\n",
    "- `iloc` selecciona filas y columnas por posiciones enteras."
   ]
  },
  {
   "cell_type": "code",
   "execution_count": null,
   "metadata": {},
   "outputs": [],
   "source": [
    "# Selección de una fila usando loc (por etiqueta)\n",
    "df.loc[0]"
   ]
  },
  {
   "cell_type": "code",
   "execution_count": null,
   "metadata": {},
   "outputs": [],
   "source": [
    "# Selección de una fila usando iloc (por posición)\n",
    "df.iloc[0]"
   ]
  },
  {
   "cell_type": "code",
   "execution_count": null,
   "metadata": {},
   "outputs": [],
   "source": [
    "# Selección de múltiples filas y columnas usando loc. Los parámetros de loc son indices de filas y luego columnas.\n",
    "df.loc[0:1, ['Name', 'Age']]"
   ]
  },
  {
   "cell_type": "code",
   "execution_count": null,
   "metadata": {},
   "outputs": [],
   "source": [
    "# Selección de múltiples filas y columnas usando iloc\n",
    "df.iloc[0:2, 0:2]"
   ]
  },
  {
   "cell_type": "markdown",
   "metadata": {},
   "source": [
    "### Filtrado de Datos con Condiciones\n",
    "\n",
    "Podemos filtrar datos en un DataFrame utilizando condiciones booleanas.\n",
    "\n",
    "**Filtrado con una Condición**"
   ]
  },
  {
   "cell_type": "code",
   "execution_count": null,
   "metadata": {},
   "outputs": [],
   "source": [
    "# Filtrar filas donde la edad es mayor de 30\n",
    "filtered_df = df[df['Age'] > 30]\n",
    "print(filtered_df)"
   ]
  },
  {
   "cell_type": "code",
   "execution_count": null,
   "metadata": {},
   "outputs": [],
   "source": [
    "# Filtrar filas donde la edad es mayor de 25 y el género es masculino\n",
    "filtered_df = df[(df['Age'] > 25) & (df['Gender'] == 'M')]\n",
    "print(filtered_df)"
   ]
  },
  {
   "cell_type": "markdown",
   "metadata": {},
   "source": [
    "## 3. Manipulación de DataFrames\n",
    "\n",
    "En esta sección, aprenderemos cómo manipular DataFrames creando nuevas columnas, renombrando y eliminando columnas. Utilizaremos el DataFrame de ejemplo creado anteriormente."
   ]
  },
  {
   "cell_type": "markdown",
   "metadata": {},
   "source": [
    "### **Crear Nuevas Columnas**\n",
    "\n",
    "Podemos crear nuevas columnas en un DataFrame asignando valores directamente o utilizando funciones como `apply` y `map`.\n",
    "\n",
    "#### **Asignar Valores Directamente**"
   ]
  },
  {
   "cell_type": "code",
   "execution_count": null,
   "metadata": {},
   "outputs": [],
   "source": [
    "# Crear una nueva columna asignando valores directamente\n",
    "df['Age_in_5_years'] = df['Age'] + 5\n",
    "print(df)"
   ]
  },
  {
   "cell_type": "markdown",
   "metadata": {},
   "source": [
    "### **Usar Funciones Apply y Map**\n",
    "Podemos utilizar apply para aplicar una función a cada elemento de una columna o a cada fila de un DataFrame, y map para transformar los valores de una columna utilizando una función o un diccionario."
   ]
  },
  {
   "cell_type": "code",
   "execution_count": null,
   "metadata": {},
   "outputs": [],
   "source": [
    "# Crear una nueva columna usando apply\n",
    "df['Name_Length'] = df['Name'].apply(len)\n",
    "print(df)"
   ]
  },
  {
   "cell_type": "code",
   "execution_count": null,
   "metadata": {},
   "outputs": [],
   "source": [
    "# Crear una nueva columna usando map con una función\n",
    "df['Is_Adult'] = df['Age'].map(lambda x: x >= 18)\n",
    "print(df)"
   ]
  },
  {
   "cell_type": "markdown",
   "metadata": {},
   "source": [
    "### **Renombrar Columnas**\n",
    "\n",
    "Podemos renombrar columnas utilizando el método rename."
   ]
  },
  {
   "cell_type": "code",
   "execution_count": null,
   "metadata": {},
   "outputs": [],
   "source": [
    "# Renombrar columnas\n",
    "df = df.rename(columns={'Name': 'Full_Name', 'Age': 'Current_Age'})\n",
    "print(df)"
   ]
  },
  {
   "cell_type": "markdown",
   "metadata": {},
   "source": [
    "### **Eliminar Columnas**\n",
    "\n",
    "Podemos eliminar columnas utilizando el método drop."
   ]
  },
  {
   "cell_type": "code",
   "execution_count": null,
   "metadata": {},
   "outputs": [],
   "source": [
    "# Eliminar columnas\n",
    "df = df.drop(columns=['Gender'])\n",
    "print(df)"
   ]
  },
  {
   "cell_type": "markdown",
   "metadata": {},
   "source": [
    "El método drop tiene un argumento llamado inplace. Este argumento lo que hace es la transformación de eliminar la columna y sobreescribe el dataframe."
   ]
  },
  {
   "cell_type": "code",
   "execution_count": null,
   "metadata": {},
   "outputs": [],
   "source": [
    "# Eliminar columnas\n",
    "df.drop(columns=['Age_in_5_years'], inplace=True)\n",
    "print(df)"
   ]
  },
  {
   "cell_type": "markdown",
   "metadata": {},
   "source": [
    "## 4. Transformaciones y Agrupaciones\n",
    "\n",
    "En esta sección, aprenderemos cómo transformar datos en un DataFrame utilizando funciones y cómo agrupar datos para realizar análisis más complejos. Utilizaremos ejemplos que muestran cómo definir funciones y aplicarlas al DataFrame, así como varios ejemplos de agrupaciones.\n",
    "\n",
    "### **Aplicar Funciones para Transformar Datos**\n",
    "\n",
    "Podemos definir funciones personalizadas y aplicarlas a un DataFrame para crear nuevas columnas o transformar datos existentes."
   ]
  },
  {
   "cell_type": "markdown",
   "metadata": {},
   "source": [
    "#### **Definir Funciones con uno o varios parámetros**"
   ]
  },
  {
   "cell_type": "code",
   "execution_count": null,
   "metadata": {},
   "outputs": [],
   "source": [
    "data = {\n",
    "    'Name': ['Alice', 'Bob', 'Charlie', 'David', 'Eva', 'Frank', 'Grace', 'Helen', 'Ian', 'Jane'],\n",
    "    'Age': [25, 30, 35, 22, 28, 40, 27, 45, 32, 38],\n",
    "    'Gender': ['F', 'M', 'M', 'M', 'F', 'M', 'F', 'F', 'M', 'F']\n",
    "}\n",
    "df = pd.DataFrame(data)"
   ]
  },
  {
   "cell_type": "code",
   "execution_count": null,
   "metadata": {},
   "outputs": [],
   "source": [
    "# Definir una función con un parámetro\n",
    "def age_category(age):\n",
    "    if age < 30:\n",
    "        return 'Young'\n",
    "    else:\n",
    "        return 'Adult'\n",
    "\n",
    "# Aplicar la función al DataFrame para crear una nueva columna\n",
    "df['Age_Category'] = df['Age'].apply(age_category)\n",
    "print(df)"
   ]
  },
  {
   "cell_type": "code",
   "execution_count": null,
   "metadata": {},
   "outputs": [],
   "source": [
    "# Definir una función con múltiples parámetros para segmentar personas por edad y género\n",
    "def segment_person(row):\n",
    "    if row['Gender'] == 'M':\n",
    "        if row['Age'] < 30:\n",
    "            return 'Hombre Joven'\n",
    "        else:\n",
    "            return 'Hombre Adulto'\n",
    "    elif row['Gender'] == 'F':\n",
    "        if row['Age'] < 30:\n",
    "            return 'Mujer Joven'\n",
    "        else:\n",
    "            return 'Mujer Adulta'\n",
    "\n",
    "# Aplicar la función al DataFrame para crear una nueva columna de segmentos\n",
    "df['Segment'] = df.apply(segment_person, axis=1)\n",
    "print(df)"
   ]
  },
  {
   "cell_type": "markdown",
   "metadata": {},
   "source": [
    "### **Agrupaciones**\n",
    "Las agrupaciones permiten agrupar datos basados en una o más columnas y realizar operaciones agregadas, como calcular la media, la suma, etc."
   ]
  },
  {
   "cell_type": "code",
   "execution_count": null,
   "metadata": {},
   "outputs": [],
   "source": [
    "# Agrupar por una columna y calcular la media\n",
    "grouped_by_gender = df.groupby('Gender')['Age'].mean()\n",
    "print(grouped_by_gender)"
   ]
  },
  {
   "cell_type": "code",
   "execution_count": null,
   "metadata": {},
   "outputs": [],
   "source": [
    "# Agrupar por múltiples columnas y calcular el tamaño de cada grupo\n",
    "grouped_by_segment = df.groupby(['Gender']).size()\n",
    "print(grouped_by_segment)"
   ]
  },
  {
   "cell_type": "code",
   "execution_count": null,
   "metadata": {},
   "outputs": [],
   "source": [
    "print(df[['Segment', 'Age']].sort_values(by='Segment'))"
   ]
  },
  {
   "cell_type": "code",
   "execution_count": null,
   "metadata": {},
   "outputs": [],
   "source": [
    "grouped_by_segment = df.groupby(['Segment']).agg({'Age': ['min', 'max', 'mean']})\n",
    "print(grouped_by_segment)"
   ]
  },
  {
   "cell_type": "markdown",
   "metadata": {},
   "source": [
    "## 5. **Uniones de DataFrames**\n",
    "\n",
    "El join de DataFrames en Python usando pandas es similar a las operaciones de join en bases de datos SQL. Permite combinar dos DataFrames basándose en valores comunes de una o más columnas (llaves), o bien combinarlos por sus índices. Además de los joins, el método append permite añadir filas de un DataFrame a otro. A continuación, explicaré los diferentes tipos de joins y cómo utilizar append.\n",
    "\n",
    "### Tipos de Joins\n",
    "\n",
    "- **Inner Join:** Combina dos DataFrames basándose en las llaves de unión y retorna solo las filas que tienen valores coincidentes en ambos DataFrames.\n",
    "- **Left Join:** Retorna todas las filas del DataFrame izquierdo y las filas coincidentes del DataFrame derecho. Si no hay coincidencia, las columnas del DataFrame derecho tendrán valores NaN.\n",
    "- **Right Join:** Retorna todas las filas del DataFrame derecho y las filas coincidentes del DataFrame izquierdo. Si no hay coincidencia, las columnas del DataFrame izquierdo tendrán valores NaN.\n",
    "- **Full Join:** Combina todos los registros de ambos DataFrames donde las llaves de unión coinciden, y para las filas que no tienen una coincidencia en el otro DataFrame, los valores correspondientes serán NaN.\n",
    "- **Cross Join:** Crea el producto cartesiano de dos DataFrames. Cada fila del primer DataFrame se combina con todas las filas del segundo DataFrame."
   ]
  },
  {
   "cell_type": "markdown",
   "metadata": {},
   "source": [
    "En Pandas los Join se hacen con la función ```Merge```.\n",
    "\n",
    "La función ``merge`` en pandas es extremadamente útil para combinar DataFrames de manera eficiente y flexible, muy parecido a las operaciones de join en bases de datos SQL. A continuación, te explico los parámetros más importantes de la función merge de pandas:\n",
    "\n",
    "Parámetros Clave de pd.merge():\n",
    "\n",
    "- **left**: El primer DataFrame que deseas unir.\n",
    "- **right**: El segundo DataFrame que deseas unir.\n",
    "- **how**: Define el tipo de merge a realizar. Puede ser 'left', 'right', 'outer', 'inner', 'cross'. Default es 'inner'.\n",
    "- **on**: Una etiqueta o lista de etiquetas para unir las tablas. Debe encontrarse en ambos DataFrames. Si no se especifica y tampoco se usan los parámetros left_on y right_on, pandas intentará unir las tablas basadas en columnas de nombres comunes.\n",
    "- **left_on**: Columnas o índices del DataFrame izquierdo para usar como llaves. Puede ser una columna/índice o una lista de columnas/índices.\n",
    "- **right_on**: Columnas o índices del DataFrame derecho para usar como llaves. Puede ser una columna/índice o una lista de columnas/índices.\n",
    "- **suffixes**: Una tupla de strings para agregar a las columnas con el mismo nombre en ambos DataFrames. El default es ('_x', '_y')."
   ]
  },
  {
   "cell_type": "code",
   "execution_count": null,
   "metadata": {},
   "outputs": [],
   "source": [
    "# Creando DataFrames de ejemplo\n",
    "df1 = pd.DataFrame({\n",
    "    'ID': [1, 2, 3, 4],\n",
    "    'Producto': ['Manzana', 'Banana', 'Cherry', 'Durazno']\n",
    "})\n",
    "\n",
    "df2 = pd.DataFrame({\n",
    "    'ID': [3, 4, 5, 6],\n",
    "    'Precio': [15, 20, 25, 30]\n",
    "})\n",
    "\n",
    "print('df1', '\\n', df1)"
   ]
  },
  {
   "cell_type": "code",
   "execution_count": null,
   "metadata": {},
   "outputs": [],
   "source": [
    "print('df2', '\\n', df2)"
   ]
  },
  {
   "cell_type": "markdown",
   "metadata": {},
   "source": [
    "### **Inner Join**"
   ]
  },
  {
   "cell_type": "code",
   "execution_count": null,
   "metadata": {},
   "outputs": [],
   "source": [
    "inner_join_df = pd.merge(df1, df2, on='ID', how='inner')\n",
    "print(inner_join_df)"
   ]
  },
  {
   "cell_type": "markdown",
   "metadata": {},
   "source": [
    "### **Left Join**"
   ]
  },
  {
   "cell_type": "code",
   "execution_count": null,
   "metadata": {},
   "outputs": [],
   "source": [
    "left_join_df = pd.merge(df1, df2, on='ID', how='left')\n",
    "print(left_join_df)"
   ]
  },
  {
   "cell_type": "markdown",
   "metadata": {},
   "source": [
    "### **Right Join**"
   ]
  },
  {
   "cell_type": "code",
   "execution_count": null,
   "metadata": {},
   "outputs": [],
   "source": [
    "right_join_df = pd.merge(df1, df2, on='ID', how='right')\n",
    "print(right_join_df)"
   ]
  },
  {
   "cell_type": "code",
   "execution_count": null,
   "metadata": {},
   "outputs": [],
   "source": [
    "right_join_df = pd.merge(df2, df1, on='ID', how='left')\n",
    "print(right_join_df)"
   ]
  },
  {
   "cell_type": "markdown",
   "metadata": {},
   "source": [
    "### **Full Join**"
   ]
  },
  {
   "cell_type": "code",
   "execution_count": null,
   "metadata": {},
   "outputs": [],
   "source": [
    "full_outer_join_df = pd.merge(df1, df2, on='ID', how='outer')\n",
    "print(full_outer_join_df)"
   ]
  },
  {
   "cell_type": "markdown",
   "metadata": {},
   "source": [
    "### **Cross Join**"
   ]
  },
  {
   "cell_type": "code",
   "execution_count": null,
   "metadata": {},
   "outputs": [],
   "source": [
    "cross_join_df = pd.merge(df1, df2, how='cross')\n",
    "print(cross_join_df)"
   ]
  },
  {
   "cell_type": "markdown",
   "metadata": {},
   "source": [
    "# Joins Verticales\n",
    "\n",
    "El método append se utiliza para añadir filas de un DataFrame a otro.\n",
    "\n",
    "Nota: append no realiza un join basado en llaves, simplemente añade las filas del segundo DataFrame al final del primero, lo cual puede resultar en un DataFrame con una estructura de columnas mixtas si los DataFrames originales son diferentes."
   ]
  },
  {
   "cell_type": "code",
   "execution_count": null,
   "metadata": {},
   "outputs": [],
   "source": [
    "# Creando DataFrames de ejemplo\n",
    "df1 = pd.DataFrame({\n",
    "    'ID': [1, 2, 3, 4],\n",
    "    'Producto': ['Manzana', 'Banana', 'Cherry', 'Durazno'],\n",
    "    'Precio' : [10.5, 20.3, 45.9, 70]\n",
    "})\n",
    "\n",
    "df2 = pd.DataFrame({\n",
    "    'ID': [5, 6, 7, 10],\n",
    "    'Producto': ['Kiwi', 'Pera', 'Manzana', 'Durazno']\n",
    "})\n",
    "\n",
    "print('df1', '\\n', df1)"
   ]
  },
  {
   "cell_type": "code",
   "execution_count": null,
   "metadata": {},
   "outputs": [],
   "source": [
    "print('df2', '\\n', df2)"
   ]
  },
  {
   "cell_type": "code",
   "execution_count": null,
   "metadata": {},
   "outputs": [],
   "source": [
    "pd.concat([df1, df2], ignore_index=True)"
   ]
  },
  {
   "cell_type": "markdown",
   "metadata": {},
   "source": [
    "# Ejercicios de Práctica: Dataset del Titanic\n",
    "\n",
    "## Ejercicio 1: Selección de Columnas y Filtrado de Datos\n",
    "\n",
    "1. **Selección de Columnas:**\n",
    "   - Carga el dataset del Titanic.\n",
    "   - Selecciona las columnas 'Name', 'Age' y 'Survived' y muestra las primeras 10 filas."
   ]
  },
  {
   "cell_type": "code",
   "execution_count": null,
   "metadata": {},
   "outputs": [],
   "source": []
  },
  {
   "cell_type": "markdown",
   "metadata": {},
   "source": [
    "2. **Filtrado de Datos:**\n",
    "   - Filtra las filas donde la edad es mayor a 30 años y muestra las primeras 10 filas."
   ]
  },
  {
   "cell_type": "code",
   "execution_count": null,
   "metadata": {},
   "outputs": [],
   "source": []
  },
  {
   "cell_type": "markdown",
   "metadata": {},
   "source": [
    "## Ejercicio 2: Manipulación de DataFrames\n",
    "\n",
    "1. **Crear Nuevas Columnas:**\n",
    "   - Crea una nueva columna 'Family_Size' que sea la suma de las columnas 'SibSp' y 'Parch'.\n",
    "   - Muestra las primeras 10 filas de las columnas 'SibSp', 'Parch' y 'Family_Size'."
   ]
  },
  {
   "cell_type": "code",
   "execution_count": null,
   "metadata": {},
   "outputs": [],
   "source": []
  },
  {
   "cell_type": "markdown",
   "metadata": {},
   "source": [
    "2. **Renombrar Columnas:**\n",
    "   - Renombra la columna 'Fare' a 'Ticket_Price' y muestra las primeras 10 filas."
   ]
  },
  {
   "cell_type": "code",
   "execution_count": null,
   "metadata": {},
   "outputs": [],
   "source": []
  },
  {
   "cell_type": "markdown",
   "metadata": {},
   "source": [
    "3. **Eliminar Columnas:**\n",
    "   - Elimina la columna 'Cabin' y muestra las primeras 10 filas.\n"
   ]
  },
  {
   "cell_type": "code",
   "execution_count": null,
   "metadata": {},
   "outputs": [],
   "source": []
  },
  {
   "cell_type": "markdown",
   "metadata": {},
   "source": [
    "## Ejercicio 3: Transformaciones y Agrupaciones\n",
    "\n",
    "1. **Aplicar Funciones:**\n",
    "   - Crea una nueva columna 'Age_Category' que clasifique a las personas como 'Child' (menor de 18), 'Adult' (entre 18 y 60) o 'Senior' (mayor de 60)."
   ]
  },
  {
   "cell_type": "code",
   "execution_count": null,
   "metadata": {},
   "outputs": [],
   "source": []
  },
  {
   "cell_type": "markdown",
   "metadata": {},
   "source": [
    "2. **Agrupaciones:**\n",
    "   - Agrupa el DataFrame por 'Pclass' y calcula la media de 'Age' y 'Ticket_Price' para cada clase."
   ]
  },
  {
   "cell_type": "code",
   "execution_count": null,
   "metadata": {},
   "outputs": [],
   "source": []
  },
  {
   "cell_type": "markdown",
   "metadata": {},
   "source": [
    "3. **Agrupaciones Múltiples:**\n",
    "   - Agrupa el DataFrame por 'Sex' y 'Survived' y calcula el tamaño de cada grupo."
   ]
  },
  {
   "cell_type": "code",
   "execution_count": null,
   "metadata": {},
   "outputs": [],
   "source": []
  }
 ],
 "metadata": {
  "kernelspec": {
   "display_name": "curso_analitica",
   "language": "python",
   "name": "python3"
  },
  "language_info": {
   "codemirror_mode": {
    "name": "ipython",
    "version": 3
   },
   "file_extension": ".py",
   "mimetype": "text/x-python",
   "name": "python",
   "nbconvert_exporter": "python",
   "pygments_lexer": "ipython3",
   "version": "3.12.3"
  }
 },
 "nbformat": 4,
 "nbformat_minor": 2
}
