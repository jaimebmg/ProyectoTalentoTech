{
 "cells": [
  {
   "cell_type": "markdown",
   "metadata": {},
   "source": [
    "# Proyecto: Simulador de Tienda en Python"
   ]
  },
  {
   "cell_type": "markdown",
   "metadata": {},
   "source": [
    "El inventario inicial consta de los siguientes productos:\n",
    "\n",
    "- Aceite:\n",
    "    - Cantidad inicial: 10\n",
    "    - Precio: 5500\n",
    "- Agua:\n",
    "    - Cantidad inicial: 10\n",
    "    - Precio: 6200\n",
    "- Arroz:\n",
    "    - Cantidad inicial: 10\n",
    "    - Precio: 7000\n",
    "- Leche:\n",
    "    - Cantidad inicial: 10\n",
    "    - Precio: 5200\n",
    "- Panela:\n",
    "    - Cantidad inicial: 10\n",
    "    - Precio: 6000"
   ]
  },
  {
   "cell_type": "markdown",
   "metadata": {},
   "source": [
    "Definan una variable que represente el umbral para hacer un pedido a los proveedores (Por ejemplo 5, si los productos bajan de menos de 5 productos, es necesario hacer pedido al proveedor)"
   ]
  },
  {
   "cell_type": "markdown",
   "metadata": {},
   "source": [
    "Código para extraer la fecha actual y truncando la hora. Truncar una fecha por su hora es no tener en cuenta ni minutos ni segundos"
   ]
  },
  {
   "cell_type": "code",
   "execution_count": null,
   "metadata": {},
   "outputs": [],
   "source": [
    "from datetime import datetime\n",
    "\n",
    "now = datetime.now()\n",
    "fecha = datetime(now.year, now.month, now.day, now.hour, 0).strftime(\"%Y-%m-%d %H:%M:%S\")\n",
    "print(fecha)"
   ]
  }
 ],
 "metadata": {
  "kernelspec": {
   "display_name": "curso_analitica",
   "language": "python",
   "name": "python3"
  },
  "language_info": {
   "codemirror_mode": {
    "name": "ipython",
    "version": 3
   },
   "file_extension": ".py",
   "mimetype": "text/x-python",
   "name": "python",
   "nbconvert_exporter": "python",
   "pygments_lexer": "ipython3",
   "version": "3.12.3"
  }
 },
 "nbformat": 4,
 "nbformat_minor": 2
}
