{
 "cells": [
  {
   "cell_type": "markdown",
   "metadata": {},
   "source": [
    "# Clase 3 - Análisis de datos y Big Data - Python"
   ]
  },
  {
   "cell_type": "markdown",
   "metadata": {},
   "source": [
    "El propósito de este notebook es realizar un repaso sobre los temas vistos en la clase 2 de Análisis de datos y Big Data con Python."
   ]
  },
  {
   "cell_type": "markdown",
   "metadata": {},
   "source": [
    "## Tipos de Datos Básicos\n",
    "1. Enteros (int): Representan números enteros, positivos o negativos, sin decimales.\n",
    "2. Punto Flotante (float): Representan números reales, es decir, con decimales.\n",
    "3. Cadenas de Texto (str): Representan texto encerrado en comillas simples o dobles.\n",
    "4. Booleanos (bool): Tienen solo dos valores: True (verdadero) o False (falso)."
   ]
  },
  {
   "cell_type": "code",
   "execution_count": 11,
   "metadata": {},
   "outputs": [],
   "source": [
    "# Entero (int)\n",
    "numero_entero = 42\n",
    "\n",
    "# Punto Flotante (float)\n",
    "numero_flotante = 3.14159\n",
    "\n",
    "# Cadenas de Texto (str)\n",
    "cadena_de_texto = \"Hola, mundo!\"\n",
    "\n",
    "# Booleano (bool)\n",
    "valor_booleano = True"
   ]
  },
  {
   "cell_type": "markdown",
   "metadata": {},
   "source": [
    "## Estructuras de Datos\n",
    "Python ofrece varias estructuras de datos que te permiten almacenar y organizar datos de manera eficiente. Las más comunes son:\n",
    "\n",
    "- **Listas (list):** Colecciones ordenadas y modificables de elementos que pueden ser de diferentes tipos. Las listas se definen con corchetes \"[\" \"]\" y los elementos se separan con comas. "
   ]
  },
  {
   "cell_type": "code",
   "execution_count": 12,
   "metadata": {},
   "outputs": [],
   "source": [
    "mi_lista = [1, 2.5, 'Python', True]"
   ]
  },
  {
   "cell_type": "markdown",
   "metadata": {},
   "source": [
    "- **Tuplas (tuple):** Colecciones ordenadas e inmutables de elementos. Las tuplas se definen con paréntesis () y, al igual que las listas, pueden contener elementos de diferentes tipos."
   ]
  },
  {
   "cell_type": "code",
   "execution_count": 13,
   "metadata": {},
   "outputs": [],
   "source": [
    "mi_tupla = (1, 2.5, 'Python', True)"
   ]
  },
  {
   "cell_type": "markdown",
   "metadata": {},
   "source": [
    "- **Diccionarios (dict):** Colecciones no ordenadas de pares clave-valor. Permiten almacenar datos de manera que se pueden buscar rápidamente utilizando una clave. Los diccionarios se definen con llaves {}."
   ]
  },
  {
   "cell_type": "code",
   "execution_count": 14,
   "metadata": {},
   "outputs": [],
   "source": [
    "mi_diccionario = {'nombre': 'Juan', 'edad': 30, 'curso': 'Python'}"
   ]
  },
  {
   "cell_type": "markdown",
   "metadata": {},
   "source": [
    "- **Conjuntos (set):** Colecciones no ordenadas de elementos únicos. Son útiles para realizar operaciones de conjunto como uniones, intersecciones y diferencias. Los conjuntos se definen con llaves {}, similar a los diccionarios, pero solo contienen valores, no pares clave-valor."
   ]
  },
  {
   "cell_type": "code",
   "execution_count": 15,
   "metadata": {},
   "outputs": [],
   "source": [
    "mi_conjunto = {1, 2, 3, 4, 5}"
   ]
  },
  {
   "cell_type": "markdown",
   "metadata": {},
   "source": [
    "## Condicionales\n",
    "\n",
    "Los condicionales en Python son estructuras de control que permiten tomar decisiones y ejecutar diferentes bloques de código dependiendo de si una o más condiciones son verdaderas o falsas."
   ]
  },
  {
   "cell_type": "markdown",
   "metadata": {},
   "source": [
    "- `if`: El `if` se utiliza para verificar si una condición es verdadera. Si lo es, el bloque de código indentado debajo del `if` se ejecutará. \n",
    "Por ejemplo:"
   ]
  },
  {
   "cell_type": "code",
   "execution_count": 16,
   "metadata": {},
   "outputs": [
    {
     "name": "stdout",
     "output_type": "stream",
     "text": [
      "El número es mayor que 5.\n"
     ]
    }
   ],
   "source": [
    "numero = 10\n",
    "if numero > 5:\n",
    "    print(\"El número es mayor que 5.\")"
   ]
  },
  {
   "cell_type": "markdown",
   "metadata": {},
   "source": [
    "- `elif`: `elif`, que es una abreviatura de \"else if\", se utiliza para verificar múltiples condiciones después de un if inicial. Si la condición del if es falsa, se puede usar `elif` para evaluar otra condición. Se pueden incluir tantas cláusulas `elif` como sean necesarias. Por ejemplo:"
   ]
  },
  {
   "cell_type": "code",
   "execution_count": 17,
   "metadata": {},
   "outputs": [
    {
     "name": "stdout",
     "output_type": "stream",
     "text": [
      "El número es mayor que 5 pero menor o igual a 15.\n"
     ]
    }
   ],
   "source": [
    "numero = 10\n",
    "if numero > 15:\n",
    "    print(\"El número es mayor que 15.\")\n",
    "elif numero > 5:\n",
    "    print(\"El número es mayor que 5 pero menor o igual a 15.\")"
   ]
  },
  {
   "cell_type": "markdown",
   "metadata": {},
   "source": [
    "- `else`: `else` se usa para ejecutar un bloque de código si todas las condiciones anteriores en la cadena de if/elif son falsas. No lleva ninguna condición junto a él. Por ejemplo:"
   ]
  },
  {
   "cell_type": "code",
   "execution_count": 18,
   "metadata": {},
   "outputs": [
    {
     "name": "stdout",
     "output_type": "stream",
     "text": [
      "El número es 5 o menor.\n"
     ]
    }
   ],
   "source": [
    "numero = 4\n",
    "if numero > 15:\n",
    "    print(\"El número es mayor que 15.\")\n",
    "elif numero > 5:\n",
    "    print(\"El número es mayor que 5 pero menor o igual a 15.\")\n",
    "else:\n",
    "    print(\"El número es 5 o menor.\")"
   ]
  },
  {
   "cell_type": "markdown",
   "metadata": {},
   "source": [
    "### Ejemplos Combinados\n",
    "Es común ver estructuras de control `if` combinadas con múltiples `elif` y un `else` final para cubrir todas las posibilidades. Por ejemplo:"
   ]
  },
  {
   "cell_type": "code",
   "execution_count": 19,
   "metadata": {},
   "outputs": [
    {
     "name": "stdout",
     "output_type": "stream",
     "text": [
      "Adulto\n"
     ]
    }
   ],
   "source": [
    "edad = 18\n",
    "if edad < 13:\n",
    "    print(\"Niño\")\n",
    "elif edad < 18:\n",
    "    print(\"Adolescente\")\n",
    "elif edad < 65:\n",
    "    print(\"Adulto\")\n",
    "else:\n",
    "    print(\"Adulto mayor\")"
   ]
  },
  {
   "cell_type": "markdown",
   "metadata": {},
   "source": [
    "## Bucles\n",
    "\n",
    "Los bucles en Python son estructuras de control que repiten un bloque de código varias veces, hasta que se cumple una condición específica. Hay dos tipos principales de bucles: `for` y `while`."
   ]
  },
  {
   "cell_type": "markdown",
   "metadata": {},
   "source": [
    "**Bucle for:** El bucle for se utiliza para iterar sobre una secuencia (que puede ser una lista, una tupla, un diccionario, un conjunto o una cadena) y ejecutar un bloque de código para cada elemento de la secuencia. La sintaxis básica es:"
   ]
  },
  {
   "cell_type": "code",
   "execution_count": 20,
   "metadata": {},
   "outputs": [
    {
     "name": "stdout",
     "output_type": "stream",
     "text": [
      "manzana\n",
      "banana\n",
      "cereza\n",
      "manzana\n",
      "banana\n",
      "cereza\n"
     ]
    }
   ],
   "source": [
    "# Iterando sobre una lista usando items\n",
    "frutas = [\"manzana\", \"banana\", \"cereza\"]\n",
    "for fruta in frutas:\n",
    "    print(fruta)\n",
    "\n",
    "# Iterando sobre una lista usando índices\n",
    "frutas = [\"manzana\", \"banana\", \"cereza\"]\n",
    "for i in range(len(frutas)):\n",
    "    print(frutas[i])"
   ]
  },
  {
   "cell_type": "markdown",
   "metadata": {},
   "source": [
    "**Bucle while:** El bucle while repite un bloque de código mientras una condición sea verdadera. La sintaxis básica es:"
   ]
  },
  {
   "cell_type": "code",
   "execution_count": 21,
   "metadata": {},
   "outputs": [
    {
     "name": "stdout",
     "output_type": "stream",
     "text": [
      "1\n",
      "2\n",
      "3\n",
      "4\n",
      "5\n"
     ]
    }
   ],
   "source": [
    "# Contando hasta cinco\n",
    "contador = 1\n",
    "while contador <= 5:\n",
    "    print(contador)\n",
    "    contador += 1"
   ]
  },
  {
   "cell_type": "markdown",
   "metadata": {},
   "source": [
    "### Diferencias Clave\n",
    "- ``for`` se usa generalmente cuando sabes de antemano el número de veces que quieres que se repita el bucle, o cuando quieres iterar sobre una secuencia de elementos.\n",
    "- ``while`` se utiliza cuando quieres repetir un bloque de código hasta que una condición específica cambie, lo cual podría no suceder un número fijo de veces."
   ]
  },
  {
   "cell_type": "markdown",
   "metadata": {},
   "source": [
    "# Funciones\n",
    "\n",
    "Las funciones en Python son bloques de código reutilizables diseñados para realizar una tarea específica. Al definir una función, puedes especificar los parámetros que acepta y puedes elegir si devuelve o no un valor.\n",
    "\n",
    "**Definición de una Función:** Para definir una función en Python, se utiliza la palabra reservada ``def``, seguida del nombre de la función, paréntesis y dos puntos. Dentro de los paréntesis, se pueden definir parámetros, que son valores que puedes pasar a la función para que trabaje con ellos. Aquí está la estructura básica:"
   ]
  },
  {
   "cell_type": "code",
   "execution_count": 22,
   "metadata": {},
   "outputs": [],
   "source": [
    "def nombre_de_la_funcion(parametro1, parametro2):\n",
    "    # Código de la función\n",
    "    # Opcionalmente, devolver un valor usando return\n",
    "    pass #Palabra reservada de python para no ejecutar ninguna acción"
   ]
  },
  {
   "cell_type": "markdown",
   "metadata": {},
   "source": [
    "## Parámetros\n",
    "Los parámetros son variables que se definen dentro de los paréntesis en la definición de la función. Permiten a la función aceptar datos de entrada y trabajar con ellos. Puedes definir tantos parámetros como necesites."
   ]
  },
  {
   "cell_type": "code",
   "execution_count": 23,
   "metadata": {},
   "outputs": [],
   "source": [
    "def saludar(nombre):\n",
    "    print(f\"Hola, {nombre}!\") #Asi se puede concatenar un string dentro de otro string (se especifica la f antes de empezar el string)"
   ]
  },
  {
   "cell_type": "code",
   "execution_count": 24,
   "metadata": {},
   "outputs": [
    {
     "data": {
      "text/plain": [
       "'hola Daniel'"
      ]
     },
     "execution_count": 24,
     "metadata": {},
     "output_type": "execute_result"
    }
   ],
   "source": [
    "\"hola \" + 'Daniel'"
   ]
  },
  {
   "cell_type": "code",
   "execution_count": 25,
   "metadata": {},
   "outputs": [
    {
     "data": {
      "text/plain": [
       "'hola Daniel'"
      ]
     },
     "execution_count": 25,
     "metadata": {},
     "output_type": "execute_result"
    }
   ],
   "source": [
    "var = 'Daniel'\n",
    "f\"hola {var}\""
   ]
  },
  {
   "cell_type": "code",
   "execution_count": 26,
   "metadata": {},
   "outputs": [
    {
     "data": {
      "text/plain": [
       "'hola Daniel'"
      ]
     },
     "execution_count": 26,
     "metadata": {},
     "output_type": "execute_result"
    }
   ],
   "source": [
    "\"hola {}\".format(var)"
   ]
  },
  {
   "cell_type": "markdown",
   "metadata": {},
   "source": [
    "En este ejemplo, nombre es un parámetro de la función saludar. Cuando llamas a la función, debes proporcionar este dato."
   ]
  },
  {
   "cell_type": "markdown",
   "metadata": {},
   "source": [
    "Los valores por defecto de los parámetros en las funciones de Python permiten que una función se ejecute incluso si no se pasan todos los argumentos que espera. Esto se logra asignando un valor predeterminado a uno o más parámetros en la definición de la función. Cuando se llama a la función sin proporcionar esos argumentos, se utilizan los valores predeterminados."
   ]
  },
  {
   "cell_type": "code",
   "execution_count": 27,
   "metadata": {},
   "outputs": [
    {
     "name": "stdout",
     "output_type": "stream",
     "text": [
      "Hola, mundo!\n"
     ]
    }
   ],
   "source": [
    "def imprimir_mensaje(mensaje=\"Hola, mundo!\"):\n",
    "    print(mensaje)\n",
    "\n",
    "imprimir_mensaje()"
   ]
  },
  {
   "cell_type": "markdown",
   "metadata": {},
   "source": [
    "### Consideraciones Importantes\n",
    "- Los parámetros con valores predeterminados deben venir después de los parámetros sin valores predeterminados en la definición de la función.\n",
    "- Usar valores predeterminados inmutables como números, cadenas o None es seguro, pero usar listas o diccionarios como valores predeterminados puede llevar a comportamientos inesperados si se modifican dentro de la función."
   ]
  },
  {
   "cell_type": "markdown",
   "metadata": {},
   "source": [
    "Ejemplo con múltiples parámetros:"
   ]
  },
  {
   "cell_type": "code",
   "execution_count": 28,
   "metadata": {},
   "outputs": [
    {
     "name": "stdout",
     "output_type": "stream",
     "text": [
      "Nombre: Ana, Activo: True, Rol: usuario\n",
      "Nombre: Luis, Activo: False, Rol: admin\n"
     ]
    }
   ],
   "source": [
    "def crear_usuario(nombre, activo=True, rol=\"usuario\"):\n",
    "    print(f\"Nombre: {nombre}, Activo: {activo}, Rol: {rol}\")\n",
    "\n",
    "# Crear un usuario con valores predeterminados\n",
    "crear_usuario(\"Ana\")\n",
    "\n",
    "# Crear un usuario especificando todos los parámetros\n",
    "crear_usuario(\"Luis\", activo=False, rol=\"admin\")"
   ]
  },
  {
   "cell_type": "markdown",
   "metadata": {},
   "source": [
    "En este ejemplo, la función crear_usuario puede ser llamada con solo el nombre, y utilizará los valores predeterminados para activo y rol, o bien, se pueden especificar todos los parámetros para personalizar la llamada."
   ]
  },
  {
   "cell_type": "markdown",
   "metadata": {},
   "source": [
    "## Return:\n",
    "La instrucción ``return`` se utiliza para devolver un valor desde una función. Si una función incluye una instrucción ``return``, cuando se llama, la función procesará su bloque de código y devolverá el valor especificado después de ``return``. Si no se incluye ``return``, la función devuelve None por defecto, que es el valor de Python para representar la nada."
   ]
  },
  {
   "cell_type": "code",
   "execution_count": 29,
   "metadata": {},
   "outputs": [
    {
     "name": "stdout",
     "output_type": "stream",
     "text": [
      "8\n"
     ]
    }
   ],
   "source": [
    "def sumar(a, b):\n",
    "    return a + b\n",
    "\n",
    "resultado = sumar(5, 3)\n",
    "print(resultado)  # Imprime 8"
   ]
  },
  {
   "cell_type": "markdown",
   "metadata": {},
   "source": [
    "### Cuándo Usar ``return``?\n",
    "- Usar ``return``: Cuando necesitas que la función calcule un valor y lo pase a quien la llama. Esto es útil para realizar cálculos que serán utilizados más adelante en tu programa.\n",
    "- No usar ``return``: Cuando tu función realiza una acción que no necesita devolver un valor, como imprimir un mensaje o modificar una estructura de datos sin necesidad de devolver el resultado."
   ]
  },
  {
   "cell_type": "code",
   "execution_count": 30,
   "metadata": {},
   "outputs": [
    {
     "name": "stdout",
     "output_type": "stream",
     "text": [
      "El área del rectángulo es: 50\n"
     ]
    }
   ],
   "source": [
    "def calcular_area_rectangulo(largo, ancho):\n",
    "    area = largo * ancho\n",
    "    return area\n",
    "\n",
    "largo = 5\n",
    "ancho = 10\n",
    "area = calcular_area_rectangulo(largo, ancho)\n",
    "print(f\"El área del rectángulo es: {area}\")"
   ]
  },
  {
   "cell_type": "markdown",
   "metadata": {},
   "source": [
    "# Anaconda"
   ]
  },
  {
   "cell_type": "markdown",
   "metadata": {},
   "source": [
    "Anaconda es una distribución gratuita y de código abierto de los lenguajes de programación Python y R especialmente diseñada para la ciencia de datos y el aprendizaje automático. Ofrece una gestión conveniente de paquetes, dependencias y entornos de trabajo, lo cual facilita a los científicos de datos y desarrolladores la realización de sus proyectos sin tener que preocuparse por la instalación y configuración de las herramientas que necesitan."
   ]
  },
  {
   "cell_type": "markdown",
   "metadata": {},
   "source": [
    "## Instalación de Paquetes\n",
    "Una de las principales funcionalidades de Anaconda es la gestión simplificada de paquetes. Utiliza el gestor de paquetes conda, que permite a los usuarios instalar, actualizar y eliminar bibliotecas y aplicaciones para Python de una manera sencilla y eficiente. conda puede acceder a un repositorio extenso de paquetes precompilados, lo que significa que los usuarios pueden instalar paquetes y sus dependencias con un solo comando, evitando la complejidad de resolver manualmente las dependencias."
   ]
  },
  {
   "cell_type": "markdown",
   "metadata": {},
   "source": [
    "### Ejemplo de instalación de un paquete usando Anaconda Prompt:\n",
    "\n",
    "Para instalar un paquete, como numpy, simplemente abres Anaconda Prompt y escribes:"
   ]
  },
  {
   "cell_type": "markdown",
   "metadata": {},
   "source": [
    "```\n",
    "pip install numpy\n",
    "```"
   ]
  },
  {
   "cell_type": "markdown",
   "metadata": {},
   "source": [
    "**conda** buscará el paquete en los repositorios configurados, resolverá las dependencias necesarias y procederá con la instalación."
   ]
  },
  {
   "cell_type": "markdown",
   "metadata": {},
   "source": [
    "## Manejo de Ambientes\n",
    "Otro aspecto fundamental de Anaconda es su capacidad para manejar ambientes de trabajo. Esto permite a los usuarios crear ambientes aislados con diferentes versiones de Python y conjuntos de paquetes, lo cual es ideal cuando se trabajan proyectos que requieren diferentes dependencias o versiones de dependencias.\n",
    "\n",
    "Crear un ambiente separado es útil para evitar conflictos entre las versiones de los paquetes y para replicar configuraciones específicas de proyectos sin afectar otros trabajos."
   ]
  },
  {
   "cell_type": "markdown",
   "metadata": {},
   "source": [
    "### Ejemplo de creación y activación de un ambiente usando Anaconda Prompt:\n",
    "\n",
    "Para crear un nuevo ambiente llamado mi_ambiente con Python 3.8, usas el comando:"
   ]
  },
  {
   "cell_type": "markdown",
   "metadata": {},
   "source": [
    "```\n",
    "conda create --name mi_ambiente python=3.8\n",
    "```"
   ]
  },
  {
   "cell_type": "markdown",
   "metadata": {},
   "source": [
    "Tambien es posible ver la lista de ambientes disponibles en anaconda usando el siguiente comando:"
   ]
  },
  {
   "cell_type": "markdown",
   "metadata": {},
   "source": [
    "```\n",
    "conda env list\n",
    "```"
   ]
  },
  {
   "cell_type": "markdown",
   "metadata": {},
   "source": [
    "Una vez creado, puedes activar el ambiente con:"
   ]
  },
  {
   "cell_type": "markdown",
   "metadata": {},
   "source": [
    "```\n",
    "conda activate mi_ambiente\n",
    "```"
   ]
  },
  {
   "cell_type": "markdown",
   "metadata": {},
   "source": [
    "Mientras este ambiente esté activo, cualquier paquete que instales usando ``pip install`` será colocado en este ambiente, aislado del resto de tu sistema."
   ]
  },
  {
   "cell_type": "markdown",
   "metadata": {},
   "source": [
    "# Ejercicios de práctica: Nivel 1"
   ]
  },
  {
   "cell_type": "markdown",
   "metadata": {},
   "source": [
    "### Ejercicio 1: Estructuras de Control - `if`/`elif`/`else`\n",
    "**Descripción**: Dada una variable `edad`, escribe un programa que determine si es un niño (`edad < 13`), un adolescente (`13 <= edad < 18`), un adulto (`18 <= edad < 65`) o un adulto mayor (`edad >= 65`)."
   ]
  },
  {
   "cell_type": "code",
   "execution_count": 31,
   "metadata": {},
   "outputs": [
    {
     "name": "stdout",
     "output_type": "stream",
     "text": [
      "Adulto\n"
     ]
    }
   ],
   "source": [
    "# Definir la variable edad\n",
    "edad = 20  # Puedes cambiar este valor para probar con diferentes edades\n",
    "\n",
    "# Determinar el grupo de edad utilizando condicionales\n",
    "if edad < 13:\n",
    "    grupo_edad = \"Niño\"\n",
    "elif edad < 18 and edad >= 13:\n",
    "    grupo_edad = \"Adolescente\"\n",
    "elif edad < 65 and edad >= 18:\n",
    "    grupo_edad = \"Adulto\"\n",
    "else:\n",
    "    grupo_edad = \"Adulto mayor\"\n",
    "\n",
    "print(grupo_edad)"
   ]
  },
  {
   "cell_type": "markdown",
   "metadata": {},
   "source": [
    "### Ejercicio 2: Bucles - `for` y `while`\n",
    "**Descripción**: Escribe un programa que use un bucle `for` para imprimir los números del 1 al 5, y luego un bucle `while` para hacer lo mismo."
   ]
  },
  {
   "cell_type": "code",
   "execution_count": 32,
   "metadata": {},
   "outputs": [
    {
     "name": "stdout",
     "output_type": "stream",
     "text": [
      "Usando bucle for:\n",
      "1\n",
      "2\n",
      "3\n",
      "4\n",
      "5\n",
      "Usando bucle while:\n",
      "1\n",
      "2\n",
      "3\n",
      "4\n",
      "5\n"
     ]
    }
   ],
   "source": [
    "# Primero, usaré un bucle for para imprimir los números del 1 al 5\n",
    "print(\"Usando bucle for:\")\n",
    "for i in range(1, 6):\n",
    "    print(i)\n",
    "\n",
    "# Ahora, usaré un bucle while para hacer lo mismo\n",
    "print(\"Usando bucle while:\")\n",
    "i = 1\n",
    "while i <= 5:\n",
    "    print(i)\n",
    "    i += 1"
   ]
  },
  {
   "cell_type": "markdown",
   "metadata": {},
   "source": [
    "### Ejercicio 3: Funciones y Parámetros\n",
    "**Descripción**: Define una función llamada `calcular_maximo` que tome dos números como parámetros y devuelva el mayor de ellos. Si los números son iguales, devuelve cualquiera."
   ]
  },
  {
   "cell_type": "code",
   "execution_count": 33,
   "metadata": {},
   "outputs": [
    {
     "name": "stdout",
     "output_type": "stream",
     "text": [
      "20 30 5\n"
     ]
    }
   ],
   "source": [
    "# Definición de la función calcular_maximo\n",
    "def calcular_maximo(a, b):\n",
    "    if a >= b:\n",
    "        return a\n",
    "    else:\n",
    "        return b\n",
    "\n",
    "# Pruebas de la función con diferentes valores\n",
    "resultado1 = calcular_maximo(10, 20)\n",
    "resultado2 = calcular_maximo(30, 25)\n",
    "resultado3 = calcular_maximo(5, 5)\n",
    "\n",
    "print(resultado1, resultado2, resultado3)"
   ]
  },
  {
   "cell_type": "markdown",
   "metadata": {},
   "source": [
    "### Ejercicio 4: Funciones con Valores por Defecto\n",
    "**Descripción**: Define una función `saludar` que tome un nombre y un saludo como parámetros. El saludo debe tener un valor por defecto de \"Hola\". La función debe imprimir el saludo seguido del nombre."
   ]
  },
  {
   "cell_type": "code",
   "execution_count": 34,
   "metadata": {},
   "outputs": [
    {
     "name": "stdout",
     "output_type": "stream",
     "text": [
      "Hola, Mundo!\n",
      "Adiós, Python!\n"
     ]
    }
   ],
   "source": [
    "# Definición de la función saludar\n",
    "def saludar(nombre, saludo=\"Hola\"):\n",
    "    print(f\"{saludo}, {nombre}!\")\n",
    "\n",
    "# Pruebas de la función con diferentes valores\n",
    "saludar(\"Mundo\")          # Uso del valor por defecto para saludo\n",
    "saludar(\"Python\", \"Adiós\")  # Uso de un saludo personalizado"
   ]
  },
  {
   "cell_type": "markdown",
   "metadata": {},
   "source": [
    "## Ejercicios de práctica: Nivel 2"
   ]
  },
  {
   "cell_type": "markdown",
   "metadata": {},
   "source": [
    "### Ejercicio 1: El Carrito de Compras\n",
    "**Descripción**: Escribe un programa que simule un carrito de compras. Debes poder agregar elementos al carrito, que se representará como una lista, y calcular el total de la compra. También será posible eliminar productos de acuerdo a su índice. Para simplificar, cada elemento será un diccionario con el `nombre` del producto, la `cantidad` y el `precio`. Al final, muestra cada producto con su cantidad y el total a pagar."
   ]
  },
  {
   "cell_type": "code",
   "execution_count": 35,
   "metadata": {},
   "outputs": [
    {
     "name": "stdout",
     "output_type": "stream",
     "text": [
      "[]\n",
      "[{'nombre': 'Papaya', 'cantidad': 3, 'precio': 2000}]\n",
      "[{'nombre': 'Papaya', 'cantidad': 3, 'precio': 2000}, {'nombre': 'Manzana', 'cantidad': 2, 'precio': 1500}]\n",
      "[{'nombre': 'Papaya', 'cantidad': 3, 'precio': 2000}, {'nombre': 'Manzana', 'cantidad': 2, 'precio': 1500}, {'nombre': 'Plátano', 'cantidad': 5, 'precio': 500}]\n",
      "11500\n",
      "\n",
      "Después de eliminar un producto:\n",
      "[{'nombre': 'Manzana', 'cantidad': 2, 'precio': 1500}, {'nombre': 'Plátano', 'cantidad': 5, 'precio': 500}]\n",
      "5500\n"
     ]
    }
   ],
   "source": [
    "def agregar_producto(carrito, nombre, cantidad, precio):\n",
    "    producto_nuevo = {\n",
    "        'nombre': nombre,\n",
    "        'cantidad': cantidad,\n",
    "        'precio': precio\n",
    "    }\n",
    "    carrito.append(producto_nuevo)\n",
    "    return carrito\n",
    "\n",
    "def eliminar_producto(carrito, nombre):\n",
    "    nuevo_carrito = []\n",
    "    for item in carrito:\n",
    "        if item['nombre'] != nombre:\n",
    "            nuevo_carrito.append(item)\n",
    "    return nuevo_carrito\n",
    "\n",
    "def calcular_total(carrito):\n",
    "    total = 0\n",
    "    for producto in carrito:\n",
    "        total += producto['cantidad'] * producto['precio']\n",
    "    return total\n",
    "\n",
    "# Ejemplo de uso\n",
    "carrito = []\n",
    "print(carrito)\n",
    "carrito = agregar_producto(carrito, 'Papaya', 3, 2000)\n",
    "print(carrito)\n",
    "carrito = agregar_producto(carrito, 'Manzana', 2, 1500)\n",
    "print(carrito)\n",
    "carrito = agregar_producto(carrito, 'Plátano', 5, 500)\n",
    "print(carrito)\n",
    "print(calcular_total(carrito))\n",
    "\n",
    "carrito = eliminar_producto(carrito, 'Papaya')  # Eliminar el producto en el índice 1 (Manzana)\n",
    "print(\"\\nDespués de eliminar un producto:\")\n",
    "print(carrito)\n",
    "print(calcular_total(carrito))"
   ]
  },
  {
   "cell_type": "markdown",
   "metadata": {},
   "source": [
    "### Ejercicio 2: El Juego de Adivinanza\n",
    "**Descripción**: Implementa un juego de adivinanza. El programa deberá generar un número aleatorio entre 1 y 50 y permitir al usuario adivinar el número. Con cada intento, se debe informar al usuario si su adivinanza es demasiado alta, demasiado baja o correcta. El juego termina cuando el usuario adivina el número o después de 5 intentos, lo que ocurra primero."
   ]
  },
  {
   "cell_type": "code",
   "execution_count": 36,
   "metadata": {},
   "outputs": [],
   "source": [
    "import random\n",
    "\n",
    "# Generar un número aleatorio entre 1 y 50\n",
    "numero_secreto = random.randint(1, 50)\n",
    "intentos = 0\n",
    "max_intentos = 5\n",
    "\n",
    "while intentos < max_intentos:\n",
    "    adivinanza = int(input('Ingresa un numero: '))\n",
    "    intentos += 1\n",
    "    print(f\"Intento {intentos}: El usuario adivina {adivinanza}\")\n",
    "    if adivinanza == numero_secreto:\n",
    "        print(\"¡Felicidades! Has adivinado el número.\")\n",
    "        break\n",
    "    elif adivinanza < numero_secreto:\n",
    "        print(\"Tu adivinanza es demasiado baja.\")\n",
    "    else:\n",
    "        print(\"Tu adivinanza es demasiado alta.\")\n",
    "\n",
    "# Mostrar el número secreto al final del juego\n",
    "print(f\"El número secreto era: {numero_secreto}\")"
   ]
  },
  {
   "cell_type": "markdown",
   "metadata": {},
   "source": [
    "### Ejercicio 3: Contador de Palabras\n",
    "**Descripción**: Escribe un programa que cuente la frecuencia de cada palabra en una cadena de texto dada por el usuario. Ignora las diferencias entre mayúsculas y minúsculas. Al final, muestra las palabras y su frecuencia en orden alfabético."
   ]
  },
  {
   "cell_type": "code",
   "execution_count": 4,
   "metadata": {},
   "outputs": [
    {
     "name": "stdout",
     "output_type": "stream",
     "text": [
      "{'python': 3, 'es': 3, 'increíble': 1, 'fácil': 1, 'de': 1, 'aprender': 1, 'popular': 1}\n"
     ]
    }
   ],
   "source": [
    "def contador_palabras(texto_usuario):\n",
    "\n",
    "    # Convertir el texto a minúsculas para ignorar diferencias entre mayúsculas y minúsculas\n",
    "    texto_usuario = texto_usuario.lower()\n",
    "\n",
    "    # Remover signos de puntuación\n",
    "    texto_usuario = texto_usuario.replace(\".\", \"\").replace(\",\", \"\")\n",
    "\n",
    "    # Dividir el texto en palabras\n",
    "    palabras = texto_usuario.split()\n",
    "\n",
    "    # Contar la frecuencia de cada palabra\n",
    "    frecuencia_palabras = {}\n",
    "    for palabra in palabras:\n",
    "        if palabra in frecuencia_palabras:\n",
    "            frecuencia_palabras[palabra] += 1\n",
    "        else:\n",
    "            frecuencia_palabras[palabra] = 1\n",
    "\n",
    "    return frecuencia_palabras \n",
    "\n",
    "# Simulando una entrada de texto del usuario\n",
    "texto_usuario = \"Python es increíble. Python es fácil de aprender. Python es popular.\"\n",
    "\n",
    "frecuencia_palabras = contador_palabras(texto_usuario)\n",
    "print(frecuencia_palabras)"
   ]
  },
  {
   "cell_type": "markdown",
   "metadata": {},
   "source": [
    "### Ejercicio 4: Organizador de Tareas\n",
    "**Descripción**: Crea un programa que funcione como un organizador de tareas. Deberás poder agregar tareas, cada una con una `descripción` y un `estado` (completada o no completada). El programa deberá permitir marcar tareas como completadas y mostrar una lista de todas las tareas o solo las completadas, según elija el usuario."
   ]
  },
  {
   "cell_type": "code",
   "execution_count": 8,
   "metadata": {},
   "outputs": [
    {
     "name": "stdout",
     "output_type": "stream",
     "text": [
      "Todas las tareas:\n",
      "[{'descripcion': 'Aprender Python', 'completada': True}, {'descripcion': 'Leer un libro', 'completada': False}, {'descripcion': 'Ejercicio en la mañana', 'completada': False}]\n"
     ]
    }
   ],
   "source": [
    "# Definición de las funciones del organizador de tareas sin usar clases\n",
    "\n",
    "tareas = []\n",
    "\n",
    "def agregar_tarea(tareas, descripcion, completada=False):\n",
    "    tareas.append({\"descripcion\": descripcion, \"completada\": completada})\n",
    "    return tareas\n",
    "\n",
    "def marcar_completada(tareas, descripcion):\n",
    "    for tarea in tareas:\n",
    "        if tarea['descripcion'] == descripcion:\n",
    "            tarea[\"completada\"] = True\n",
    "    return tareas\n",
    "\n",
    "# Agregar algunas tareas\n",
    "tareas = agregar_tarea(tareas, \"Aprender Python\")\n",
    "tareas = agregar_tarea(tareas, \"Leer un libro\")\n",
    "tareas = agregar_tarea(tareas, \"Ejercicio en la mañana\")\n",
    "\n",
    "# Marcar una tarea como completada\n",
    "tareas = marcar_completada(tareas, \"Aprender Python\")\n",
    "\n",
    "# Mostrar todas las tareas\n",
    "print(\"Todas las tareas:\")\n",
    "print(tareas)"
   ]
  },
  {
   "cell_type": "markdown",
   "metadata": {},
   "source": [
    "## Ejercicios en clase"
   ]
  },
  {
   "cell_type": "markdown",
   "metadata": {},
   "source": [
    "### Factorial recursivo"
   ]
  },
  {
   "cell_type": "code",
   "execution_count": null,
   "metadata": {},
   "outputs": [],
   "source": [
    "def factorial(numero):\n",
    "    resultado = 0\n",
    "    if numero > 1:\n",
    "        resultado = numero*factorial(numero-1)\n",
    "    else:\n",
    "        resultado = 1\n",
    "    return resultado\n",
    "    \n",
    "resultado = factorial(4)\n",
    "print(resultado)"
   ]
  },
  {
   "cell_type": "markdown",
   "metadata": {},
   "source": [
    "### Multiplicación recursivo"
   ]
  },
  {
   "cell_type": "code",
   "execution_count": null,
   "metadata": {},
   "outputs": [],
   "source": [
    "def multiplicacion(a, b):\n",
    "    resultado = 0\n",
    "    if b > 1:\n",
    "        resultado = a + multiplicacion(a, b-1)\n",
    "    else:\n",
    "        resultado = a\n",
    "    return resultado\n",
    "\n",
    "print(multiplicacion(3, 4))"
   ]
  }
 ],
 "metadata": {
  "kernelspec": {
   "display_name": "curso_analitica",
   "language": "python",
   "name": "python3"
  },
  "language_info": {
   "codemirror_mode": {
    "name": "ipython",
    "version": 3
   },
   "file_extension": ".py",
   "mimetype": "text/x-python",
   "name": "python",
   "nbconvert_exporter": "python",
   "pygments_lexer": "ipython3",
   "version": "3.10.10"
  }
 },
 "nbformat": 4,
 "nbformat_minor": 2
}
