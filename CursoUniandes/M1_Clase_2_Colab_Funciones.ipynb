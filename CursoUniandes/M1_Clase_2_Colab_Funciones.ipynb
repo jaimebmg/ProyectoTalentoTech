{
  "cells": [
    {
      "cell_type": "markdown",
      "metadata": {
        "id": "6rbRxEihXJqC"
      },
      "source": [
        "# Módulo 1\n",
        "**Pensamiento algorítmico**"
      ]
    },
    {
      "cell_type": "markdown",
      "metadata": {
        "id": "G276XmfAbfbK"
      },
      "source": [
        "## Funciones"
      ]
    },
    {
      "cell_type": "markdown",
      "metadata": {
        "id": "B8hAJPjrezgj"
      },
      "source": [
        "### Definir e invocar funciones"
      ]
    },
    {
      "cell_type": "markdown",
      "metadata": {
        "id": "H7Jh6uM9blQW"
      },
      "source": [
        "Para definir funciones empleamos la palabra clave **def**. Si definimos una función no se ejecuta inmediatamente, simplemente queda lista para ser invocada."
      ]
    },
    {
      "cell_type": "code",
      "execution_count": null,
      "metadata": {
        "id": "i5eV71pKFL7c"
      },
      "outputs": [],
      "source": [
        "def saludar():\n",
        "  print('¡Hola! Qué onda')"
      ]
    },
    {
      "cell_type": "markdown",
      "metadata": {
        "id": "-XTq02VSSMez"
      },
      "source": [
        "Para invocar la función empleamos el nombre de la función. Si la función no lleva parámetros abrimos y cerramos paréntesis, para indicar que invocamos a una función, sin nada adentro."
      ]
    },
    {
      "cell_type": "code",
      "execution_count": null,
      "metadata": {
        "id": "vKlup6L6Wgcd"
      },
      "outputs": [],
      "source": [
        "saludar()"
      ]
    },
    {
      "cell_type": "markdown",
      "metadata": {
        "id": "Ptf4nQZvb_VY"
      },
      "source": [
        "**Ejercicio** Modificar la función saludar( ) para que diga '¿Ya tomaste tu aguita?'. Para correrla de nuevo en la siguiente celda y que muestre el nuevo resultado, hay que definirla de nuevo (correr la celda de definición)."
      ]
    },
    {
      "cell_type": "code",
      "execution_count": null,
      "metadata": {
        "id": "mJ4yTxvYT8r0"
      },
      "outputs": [],
      "source": [
        "saludar()"
      ]
    },
    {
      "cell_type": "markdown",
      "metadata": {
        "id": "1AYVm_wyUNs3"
      },
      "source": [
        "No todas las funciones muestran cosas en la pantalla."
      ]
    },
    {
      "cell_type": "code",
      "execution_count": 1,
      "metadata": {
        "id": "zN-24-usUVTC"
      },
      "outputs": [],
      "source": [
        "def correrUnAlgoritmoSilencioso():\n",
        "  # Esta función suma números internamente y luego no hace nada con ellos\n",
        "  5+3-2"
      ]
    },
    {
      "cell_type": "code",
      "execution_count": 2,
      "metadata": {
        "id": "hgOwQ73JUcTw"
      },
      "outputs": [],
      "source": [
        "correrUnAlgoritmoSilencioso()"
      ]
    },
    {
      "cell_type": "markdown",
      "metadata": {
        "id": "o-bVXn0lX0sA"
      },
      "source": [
        "Hay dos formas en las que una función puede emplear información:"
      ]
    },
    {
      "cell_type": "markdown",
      "metadata": {
        "id": "rk29omMSX8kB"
      },
      "source": [
        "1. Podemos pedir parámetros y utilizarlos"
      ]
    },
    {
      "cell_type": "code",
      "execution_count": 3,
      "metadata": {
        "id": "LpOvuAuFYBJc"
      },
      "outputs": [],
      "source": [
        "def decirMiNombre(nombre):\n",
        "  print('Buenos días, mi nombre es '+nombre+'.')"
      ]
    },
    {
      "cell_type": "markdown",
      "metadata": {
        "id": "MBHeKkxJYLEo"
      },
      "source": [
        "**Ejercicio** Invocar la función decirMiNombre(). Hay que pasarle exactamente un parámetro. De lo contrario, Python nos devuelve un error."
      ]
    },
    {
      "cell_type": "code",
      "execution_count": null,
      "metadata": {
        "id": "F07SUUbXYJKW"
      },
      "outputs": [],
      "source": [
        "decirMiNombre()"
      ]
    },
    {
      "cell_type": "markdown",
      "metadata": {
        "id": "9wYe0ZeeYjh-"
      },
      "source": [
        "2. También podemos definir una estrucutra de información y consultarla desde la función:"
      ]
    },
    {
      "cell_type": "code",
      "execution_count": 7,
      "metadata": {
        "id": "oIqIYT7PYn9X"
      },
      "outputs": [],
      "source": [
        "listaDeEdades = [23, 7, 64, 85, 74, 94, 68, 57, 96, 86]"
      ]
    },
    {
      "cell_type": "code",
      "execution_count": 8,
      "metadata": {
        "id": "02X7lpPsYz-s"
      },
      "outputs": [],
      "source": [
        "def promedioDeLasEdades():\n",
        "  promedio = sum(listaDeEdades)/len(listaDeEdades)\n",
        "  print(promedio)"
      ]
    },
    {
      "cell_type": "code",
      "execution_count": null,
      "metadata": {
        "id": "GpSb33AdZTUt"
      },
      "outputs": [],
      "source": [
        "promedioDeLasEdades()"
      ]
    },
    {
      "cell_type": "markdown",
      "metadata": {
        "id": "vZdBnzt6a5pI"
      },
      "source": [
        "Es recomendable que la función solicite sus propios parámetros siempre, así:"
      ]
    },
    {
      "cell_type": "code",
      "execution_count": 10,
      "metadata": {
        "id": "26lDwhLLbAmn"
      },
      "outputs": [],
      "source": [
        "def promedioDeLasEdades(lista):\n",
        "  promedio = sum(lista)/len(lista)\n",
        "  print(promedio)"
      ]
    },
    {
      "cell_type": "code",
      "execution_count": null,
      "metadata": {
        "id": "xeIPdqRibEl1"
      },
      "outputs": [],
      "source": [
        "# En lugar de referenciar directamente una lista global, la pasamos como parámetro\n",
        "promedioDeLasEdades(listaDeEdades)"
      ]
    },
    {
      "cell_type": "markdown",
      "metadata": {
        "id": "K1TvbKbObNbO"
      },
      "source": [
        "**Ejercicio** Definir una función que muestre en pantalla la división entre números. Recibe como parámetros dos números, el nombre de la función es dividirNumeros; no retorna nada."
      ]
    },
    {
      "cell_type": "code",
      "execution_count": 15,
      "metadata": {
        "id": "Ts9MYfz4bgVn"
      },
      "outputs": [],
      "source": [
        "# Definimos la función\n"
      ]
    },
    {
      "cell_type": "markdown",
      "metadata": {
        "id": "ujEbrMecbisx"
      },
      "source": [
        "Cuando invocamos la función, y le pasamos los parámetros incorrectos, Python nos retorna un error. **¿Cuántos parámetros le pasamos a esta función en la celda siguiente?**"
      ]
    },
    {
      "cell_type": "code",
      "execution_count": null,
      "metadata": {
        "id": "uyAnWBWobjzW"
      },
      "outputs": [],
      "source": [
        "dividirNumeros([4,2])"
      ]
    },
    {
      "cell_type": "code",
      "execution_count": null,
      "metadata": {
        "id": "vTnXRgkae9Jn"
      },
      "outputs": [],
      "source": [
        "# Esta es la forma correcta de usarla:\n",
        "dividirNumeros(4,2)"
      ]
    },
    {
      "cell_type": "markdown",
      "metadata": {
        "id": "mBnXRyLyfSG9"
      },
      "source": [
        "Podemos diseñar funciones que nos devuelven valores para poder usarlos después. Para esto, usamos la palabra **return**"
      ]
    },
    {
      "cell_type": "code",
      "execution_count": 18,
      "metadata": {
        "id": "TdVOEKLofRZL"
      },
      "outputs": [],
      "source": [
        "def dameUnNumeroEntre10y20():\n",
        "  return 14"
      ]
    },
    {
      "cell_type": "markdown",
      "metadata": {
        "id": "tftEKMJRgJGP"
      },
      "source": [
        "Cuando la vamos a invocar podemos usar el resultado como queramos:"
      ]
    },
    {
      "cell_type": "code",
      "execution_count": null,
      "metadata": {
        "id": "u_YfyKmsgIZY"
      },
      "outputs": [],
      "source": [
        "# En google Colab, si retornamos lo muestra en pantalla\n",
        "dameUnNumeroEntre10y20()"
      ]
    },
    {
      "cell_type": "code",
      "execution_count": null,
      "metadata": {
        "id": "bxunCmwagUI2"
      },
      "outputs": [],
      "source": [
        "# También podemos pedirle que lo muestre explícitamente:\n",
        "print(dameUnNumeroEntre10y20())"
      ]
    },
    {
      "cell_type": "code",
      "execution_count": null,
      "metadata": {
        "id": "fcNnYRhqgYbN"
      },
      "outputs": [],
      "source": [
        "# Podemos operarlo con otros valores, etc.\n",
        "10 + dameUnNumeroEntre10y20()"
      ]
    },
    {
      "cell_type": "markdown",
      "metadata": {
        "id": "W-EWNm7rhKu0"
      },
      "source": [
        "Si tenemos una función que no retorna nada, no podemos usar el resultado del proceso:"
      ]
    },
    {
      "cell_type": "code",
      "execution_count": 22,
      "metadata": {
        "id": "b-ThkV_Igv6f"
      },
      "outputs": [],
      "source": [
        "def retornarMensaje(nombre, correo):\n",
        "  mensaje = '¡Buen día! Una bienvenida a esta gran empresa '+nombre+'. Te enviaremos un mensaje de confirmación al correo '+correo+' para que termines tu registro.'"
      ]
    },
    {
      "cell_type": "code",
      "execution_count": 23,
      "metadata": {
        "id": "fdg3obuahDOG"
      },
      "outputs": [],
      "source": [
        "retornarMensaje('Juan', 'al@gmail.com')"
      ]
    },
    {
      "cell_type": "markdown",
      "metadata": {
        "id": "coY9YK3Ygih4"
      },
      "source": [
        "**Ejercicio** Modificar la función retornarMensaje para que retorne el mensaje de whatsapp. Volver a invocar en la celda siguiente:"
      ]
    },
    {
      "cell_type": "code",
      "execution_count": null,
      "metadata": {
        "id": "wnUZSNnVhV8k"
      },
      "outputs": [],
      "source": [
        "# Invocar de nuevo la función retornarMensaje() después de modificarla, pasarle como parámetros su nombre y su correo:\n"
      ]
    },
    {
      "cell_type": "markdown",
      "metadata": {
        "id": "oroyLZPEnj3A"
      },
      "source": [
        "## Las funciones en Python son de dos tipos\n",
        "\n",
        "-  Funciones internas **(Built-in)** que se vienen como parte de Python: `print()`, `input()`, `type()`, `float()`, `int()`...   \n",
        "\n",
        "  \n",
        "-  Funciones que definimos nosotros y luego usamos\n",
        "  \n",
        "    \n",
        "    \n",
        "     \n",
        "Las funciones internas vamos a tratarlas como “nuevas” palabras reservadas (o sea, no las usaremos de nombres de variable)\n"
      ]
    },
    {
      "cell_type": "markdown",
      "metadata": {
        "id": "NqRJDPKQoDh8"
      },
      "source": [
        "Ejemplos de funciones que vienen incorporadas en Python son las de conversión entre distintos tipos (float(), int())."
      ]
    },
    {
      "cell_type": "code",
      "execution_count": null,
      "metadata": {
        "id": "OBVK8msrnjid"
      },
      "outputs": [],
      "source": [
        "print(float(99) / 100)\n",
        "i = 42\n",
        "print(i)\n",
        "print(type(i))"
      ]
    },
    {
      "cell_type": "markdown",
      "metadata": {
        "id": "fhSGpmwuoelk"
      },
      "source": [
        "## Funciones Vacías (non-fruitful)\n",
        "\n",
        "* Cuando una función no retorna un valor, le decimos una función “vacía”\n",
        "* Las funciones que retornan valores son fructíferas (fruitful)\n",
        "* Las funciones vacías son “no fructíferas”"
      ]
    },
    {
      "cell_type": "markdown",
      "metadata": {
        "id": "KaIaqy5Io9SB"
      },
      "source": [
        "## Ejercicio"
      ]
    },
    {
      "cell_type": "markdown",
      "metadata": {
        "id": "cHt9nX2mpCHi"
      },
      "source": [
        "Cree una función llamada **pagocomputado** que reciba dos argumentos ( horas y tarifa).La función le debe solicitar al usuario ingresar horas y tarifa por hora para computar el pago.\n",
        "\n",
        "Ejemplo:\n",
        "\n",
        "Inserte Horas: 42.5\n",
        "Inserte Tarifa: 2000\n",
        "\n",
        "Pago: 85000"
      ]
    },
    {
      "cell_type": "code",
      "execution_count": 10,
      "metadata": {
        "id": "eBS5-nTjpZgN",
        "metadata": {}
      },
      "outputs": [
        {
          "ename": "TypeError",
          "evalue": "'horas' is an invalid keyword argument for str()",
          "output_type": "error",
          "traceback": [
            "\u001b[1;31m---------------------------------------------------------------------------\u001b[0m",
            "\u001b[1;31mTypeError\u001b[0m                                 Traceback (most recent call last)",
            "Cell \u001b[1;32mIn[10], line 8\u001b[0m\n\u001b[0;32m      5\u001b[0m         pago \u001b[38;5;241m=\u001b[39m horas \u001b[38;5;241m*\u001b[39m tarifa\n\u001b[0;32m      6\u001b[0m         \u001b[38;5;28mprint\u001b[39m(\u001b[38;5;124mf\u001b[39m\u001b[38;5;124m\"\u001b[39m\u001b[38;5;124mPago: \u001b[39m\u001b[38;5;132;01m{\u001b[39;00mpago\u001b[38;5;132;01m:\u001b[39;00m\u001b[38;5;124m.2f\u001b[39m\u001b[38;5;132;01m}\u001b[39;00m\u001b[38;5;124m\"\u001b[39m)\n\u001b[1;32m----> 8\u001b[0m \u001b[43mpagocomputado\u001b[49m\u001b[43m(\u001b[49m\u001b[43m)\u001b[49m\n",
            "Cell \u001b[1;32mIn[10], line 3\u001b[0m, in \u001b[0;36mpagocomputado\u001b[1;34m()\u001b[0m\n\u001b[0;32m      1\u001b[0m \u001b[38;5;28;01mdef\u001b[39;00m \u001b[38;5;21mpagocomputado\u001b[39m():\n\u001b[1;32m----> 3\u001b[0m         \u001b[38;5;28;43mstr\u001b[39;49m\u001b[43m \u001b[49m\u001b[43m(\u001b[49m\u001b[43mhoras\u001b[49m\u001b[43m \u001b[49m\u001b[38;5;241;43m=\u001b[39;49m\u001b[43m  \u001b[49m\u001b[38;5;28;43minput\u001b[39;49m\u001b[43m(\u001b[49m\u001b[38;5;124;43m\"\u001b[39;49m\u001b[38;5;124;43mInserte Horas: \u001b[39;49m\u001b[38;5;124;43m\"\u001b[39;49m\u001b[43m)\u001b[49m\u001b[43m)\u001b[49m\n\u001b[0;32m      4\u001b[0m         \u001b[38;5;28mstr\u001b[39m (tarifa \u001b[38;5;241m=\u001b[39m \u001b[38;5;28minput\u001b[39m(\u001b[38;5;124m\"\u001b[39m\u001b[38;5;124mInserte Tarifa: \u001b[39m\u001b[38;5;124m\"\u001b[39m))\n\u001b[0;32m      5\u001b[0m         pago \u001b[38;5;241m=\u001b[39m horas \u001b[38;5;241m*\u001b[39m tarifa\n",
            "\u001b[1;31mTypeError\u001b[0m: 'horas' is an invalid keyword argument for str()"
          ]
        }
      ],
      "source": [
        "def pagocomputado():\n",
        "    \n",
        "        str (horas =  input(\"Inserte Horas: \"))\n",
        "        str (tarifa = input(\"Inserte Tarifa: \"))\n",
        "        pago = horas * tarifa\n",
        "        print(f\"Pago: {pago:.2f}\")\n",
        "    \n",
        "pagocomputado()"
      ]
    },
    {
      "cell_type": "code",
      "execution_count": 19,
      "metadata": {
        "metadata": {}
      },
      "outputs": [
        {
          "name": "stdout",
          "output_type": "stream",
          "text": [
            "Pago: 200.00\n"
          ]
        }
      ],
      "source": [
        "def pagocomputado():\n",
        "    \n",
        "        horas = float(input(\"Inserte Horas: \"))\n",
        "        tarifa = float(input(\"Inserte Tarifa: \"))\n",
        "        pago = horas * tarifa\n",
        "        print(f\"Pago: {pago:.2f}\")\n",
        "    \n",
        "pagocomputado()"
      ]
    },
    {
      "cell_type": "markdown",
      "metadata": {
        "id": "1S7JNq-0qinh"
      },
      "source": [
        "Cree una función que sume sus gastos de canasta familiar, gastos financieros, gastos de entretenimiento. Muestre el total de sus gastos y realice una relación frente a sus ingresos (participación)."
      ]
    },
    {
      "cell_type": "markdown",
      "metadata": {
        "id": "Po6dNKTygVN4"
      },
      "source": [
        "## Recapitulando\n",
        "En este cuadernillo vimos:\n",
        "\n",
        "\n",
        "*   Definición de funciones\n",
        "*   Cómo invocamos funciones\n",
        "*   Empleamos parámetros\n",
        "*   Retornamos resultados\n",
        "*   Algunos errores comunes cuando empleamos funciones\n",
        "\n"
      ]
    }
  ],
  "metadata": {
    "colab": {
      "provenance": []
    },
    "kernelspec": {
      "display_name": "Python 3",
      "name": "python3"
    },
    "language_info": {
      "codemirror_mode": {
        "name": "ipython",
        "version": 3
      },
      "file_extension": ".py",
      "mimetype": "text/x-python",
      "name": "python",
      "nbconvert_exporter": "python",
      "pygments_lexer": "ipython3",
      "version": "3.10.14"
    }
  },
  "nbformat": 4,
  "nbformat_minor": 0
}
