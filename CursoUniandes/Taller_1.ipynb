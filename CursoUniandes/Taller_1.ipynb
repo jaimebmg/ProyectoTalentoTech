{
 "nbformat": 4,
 "nbformat_minor": 0,
 "metadata": {
  "colab": {
   "provenance": []
  },
  "kernelspec": {
   "name": "python3",
   "display_name": "Python 3"
  },
  "language_info": {
   "name": "python"
  }
 },
 "cells": [
  {
   "cell_type": "markdown",
   "source": [
    "**TIENDA DON PEPE**\n",
    "Ofrece los siguientes productos:\n"
   ],
   "metadata": {
    "id": "mym8HQSiNRN5"
   }
  },
  {
   "cell_type": "markdown",
   "source": [
    "1. **Función para Actualizar el Inventario**\n",
    "\n",
    "● Descripción: Esta función es el corazón del manejo de productos en su tienda.\n",
    "Deberán escribir código que permita tanto añadir productos al inventario\n",
    "como deducirlos tras una venta. Esta dualidad es crucial para mantener\n",
    "actualizada la información de stock en todo momento.\n",
    "\n",
    "\n",
    "● Detalles Técnicos: Implementen un diccionario donde las claves sean los\n",
    "nombres de los productos y los valores sean las cantidades actuales. La función\n",
    "debe aceptar el nombre del producto y la cantidad (positiva para añadir,\n",
    "negativa para sustraer) y ajustar el inventario de acuerdo."
   ],
   "metadata": {
    "id": "r_5wJKrZSIBe"
   }
  },
  {
   "cell_type": "code",
   "execution_count": 1,
   "metadata": {
    "id": "GJGkDzzEM-Ru",
    "colab": {
     "base_uri": "https://localhost:8080/"
    },
    "outputId": "879a1f51-4ddb-4a05-ad63-0f53436c5e7d"
   },
   "source": [
    "inventario = {\n",
    "    \"Aceite\": {\n",
    "        \"Cantidad\": 10,\n",
    "        \"Precio\": 5500\n",
    "        },\n",
    "    \"Agua\": {\n",
    "        \"Cantidad\": 10,\n",
    "        \"Precio\": 6200\n",
    "        },\n",
    "    \"Arroz\": {\n",
    "        \"Cantidad\": 10,\n",
    "        \"Precio\": 7000\n",
    "        },\n",
    "    \"Leche\": {\n",
    "        \"Cantidad\": 10,\n",
    "        \"Precio\": 5200\n",
    "        },\n",
    "    \"Panela\": {\n",
    "        \"Cantidad\": 10,\n",
    "        \"Precio\": 6000\n",
    "        }\n",
    "}\n",
    "\n",
    "print(inventario)"
   ],
   "outputs": []
  },
  {
   "cell_type": "code",
   "source": [
    "transacciones = {\n",
    "    \"Ventas\": [],\n",
    "    \"Compras\": []\n",
    "}"
   ],
   "metadata": {
    "id": "IgvNYLbqSDb9"
   },
   "execution_count": 4,
   "outputs": []
  },
  {
   "cell_type": "markdown",
   "source": [
    "2. Función de Compra\n",
    "● Descripción: Esta función permite a los clientes realizar compras en su tienda.\n",
    "Deben asegurarse de que la interfaz sea clara para que el usuario pueda\n",
    "seleccionar fácilmente productos y cantidades y realizar el pago\n",
    "correspondiente.\n",
    "● Detalles Técnicos: Usen un diccionario para almacenar información del\n",
    "producto, incluyendo precio. La función debe verificar si hay suficiente\n",
    "inventario para la venta y calcular el cambio necesario si el cliente paga con\n",
    "más del costo del producto."
   ],
   "metadata": {
    "id": "zoQ4uKgxSVKC"
   }
  },
  {
   "cell_type": "code",
   "source": [
    "def mostrar_inventario():\n",
    "    print(\"Inventario:\")\n",
    "    for producto, detalles in inventario.items():\n",
    "        precio_venta= detalles[\"Precio\"]*1.2\n",
    "        print(f\"{producto}: Cantidad {detalles['Cantidad']}, Precio de venta {precio_venta:.2f}\")\n",
    "print (mostrar_inventario())"
   ],
   "metadata": {
    "colab": {
     "base_uri": "https://localhost:8080/"
    },
    "id": "wyxWAHj1SZxf",
    "outputId": "0b01e79c-944f-46c5-c301-f56cbce84734"
   },
   "execution_count": 5,
   "outputs": []
  },
  {
   "cell_type": "code",
   "source": [
    "def modificar_cantidad(producto, cantidad):\n",
    "    if producto in inventario:\n",
    "        inventario[producto][\"Cantidad\"] += cantidad\n",
    "        print(f\"Cantidad de {producto} actualizada a {inventario[producto]['Cantidad']}.\")\n",
    "    else:\n",
    "        print(\"Producto no encontrado en el inventario.\")\n"
   ],
   "metadata": {
    "id": "ORnpGQIONRBZ"
   },
   "execution_count": 6,
   "outputs": []
  },
  {
   "cell_type": "code",
   "source": [
    "modificar_cantidad (\"Leche\", -5)"
   ],
   "metadata": {
    "colab": {
     "base_uri": "https://localhost:8080/"
    },
    "id": "LaEhbPIYRR1_",
    "outputId": "7410fe80-5b20-46c3-fded-7625b18216c7"
   },
   "execution_count": 8,
   "outputs": []
  },
  {
   "cell_type": "code",
   "source": [
    "def registrar_transaccion(tipo, precio):\n",
    "    if tipo == \"Venta\":\n",
    "        transacciones[\"Ventas\"] += precio\n",
    "    elif tipo == \"Compra\":\n",
    "        transacciones[\"Compras\"] += precio\n",
    "    else:\n",
    "        print(\"Tipo de transacción no válido.\")"
   ],
   "metadata": {
    "id": "nI7E70OaZsEY"
   },
   "execution_count": 9,
   "outputs": []
  },
  {
   "cell_type": "code",
   "source": [
    "def comprar_producto():\n",
    "    mostrar_inventario()\n",
    "    producto = input(\"Ingrese el nombre del producto que desea comprar: \")\n",
    "    if producto in inventario:\n",
    "        cantidad = int(input(\"Ingrese la cantidad que desea comprar: \"))\n",
    "        if cantidad <= inventario[producto][\"Cantidad\"]:\n",
    "            precio_venta = inventario[producto][\"Precio\"] * 1.2\n",
    "            total_pagar = precio_venta * cantidad\n",
    "            print(f\"El total a pagar es: {total_pagar:.2f} por {cantidad} de {producto}\") # Changed 'Cantidad' to 'cantidad'\n",
    "            pago = int(input(\"Ingrese el monto de pago: \"))\n",
    "            if pago >= total_pagar:\n",
    "                cambio = pago - total_pagar\n",
    "                print(f\"Su cambio es: {cambio:.2f}\")\n",
    "                modificar_cantidad(producto, -cantidad)\n",
    "                registrar_transaccion(\"Venta\", total_pagar)\n",
    "                else:\n",
    "                print(\"El pago no es suficiente.\")\n",
    "            elif cantidad > inventario[producto][\"Cantidad\"]:\n",
    "                print(f\"No hay suficiente {producto} en el inventario\")"
   ],
   "metadata": {
    "colab": {
     "base_uri": "https://localhost:8080/",
     "height": 106
    },
    "id": "1fag05NhUFRn",
    "outputId": "4b376c5e-a1e8-4004-b65b-a1cf7e93e6f6"
   },
   "execution_count": 16,
   "outputs": []
  },
  {
   "cell_type": "code",
   "source": [
    "def registrar_compra(producto, cantidad, precio_unitario):\n",
    "    compra = cantidad * precio_unitario\n",
    "    registrar_transaccion(\"Compra\", compra)\n",
    "    if producto in inventario:\n",
    "        inventario[producto][\"Cantidad\"] += cantidad\n",
    "    else:\n",
    "        inventario[producto] = {\"Cantidad\": cantidad, \"Precio\": precio_unitario}\n"
   ],
   "metadata": {
    "id": "fnRycFtxanwo"
   },
   "execution_count": 12,
   "outputs": []
  },
  {
   "cell_type": "code",
   "source": [
    "comprar_producto()"
   ],
   "metadata": {
    "colab": {
     "base_uri": "https://localhost:8080/",
     "height": 141
    },
    "id": "gov5XXMhVRbz",
    "outputId": "50e35b54-db16-4ae1-d2bb-953835939a3c"
   },
   "execution_count": 13,
   "outputs": []
  },
  {
   "cell_type": "markdown",
   "source": [
    "**3. Función para el Manejo del Dinero de la Tienda**\n",
    "\n",
    "● Descripción: Aquí manejarán todas las transacciones financieras. Esta\n",
    "función rastreará el dinero entrante de las ventas y los pagos salientes a\n",
    "proveedores, además de calcular el valor del inventario actual para\n",
    "determinar las ganancias de la tienda.\n",
    "\n",
    "● Detalles Técnicos: Pueden utilizar listas para registrar cada transacción y un\n",
    "método para sumarizar y calcular el balance final. Asegúrense de actualizar\n",
    "este registro después de cada operación relevante."
   ],
   "metadata": {
    "id": "twlyC6WdYRJR"
   }
  },
  {
   "cell_type": "code",
   "source": [],
   "metadata": {
    "id": "v6cy9Zopbu5h"
   },
   "execution_count": null,
   "outputs": []
  },
  {
   "cell_type": "code",
   "source": [
    "def ganancias():\n",
    "    Ventas = transacciones[\"Ventas\"]\n",
    "    Compras = transacciones[\"Compras\"]\n",
    "    total_ventas = sum(ventas)\n",
    "    total_compras = sum(compras)\n",
    "    ganancias = total_ventas - total_compras\n",
    "    return ganancias\n",
    "    print(f\"Las ganancias de la tienda son: {ganancias}\")"
   ],
   "metadata": {
    "id": "Sn0EnkkoYZH2"
   },
   "execution_count": null,
   "outputs": []
  },
  {
   "cell_type": "code",
   "source": [
    "ganancias()"
   ],
   "metadata": {
    "colab": {
     "base_uri": "https://localhost:8080/"
    },
    "id": "cJkTEL_VbWZp",
    "outputId": "2889d2ff-16ca-46c0-91f1-70d57881b678"
   },
   "execution_count": null,
   "outputs": []
  },
  {
   "cell_type": "code",
   "source": [
    "print(transacciones)"
   ],
   "metadata": {
    "colab": {
     "base_uri": "https://localhost:8080/"
    },
    "id": "d9Kzg3OKcvVp",
    "outputId": "8f9513c9-319f-4980-ec4f-167595416d38"
   },
   "execution_count": null,
   "outputs": []
  },
  {
   "cell_type": "code",
   "source": [
    "import pandas as pdb\n",
    "from datetime import datetime, timedelta"
   ],
   "metadata": {
    "id": "PJD65M2gjzwI"
   },
   "execution_count": null,
   "outputs": []
  },
  {
   "cell_type": "code",
   "source": [
    "ruta_csv = \"sample_data/precios_proveedores.csv\"\n",
    "precios_proveedores = pd.read_csv(ruta_csv)\n",
    "hora_actual = datetime.now().replace(minute=0, second=0, microsecond=0) - timedelta(hours=5)\n",
    "\n"
   ],
   "metadata": {
    "id": "BO5KVjfjj1Wa"
   },
   "execution_count": null,
   "outputs": []
  },
  {
   "cell_type": "code",
   "source": [
    "proveedores_validos = precios_proveedores[pd.to_datetime(precios_proveedores['Fecha']).dt.floor('H') == hora_actual]\n",
    "proveedor_min_precio = proveedores_validos.loc[proveedores_validos.groupby('Producto')['Precio'].idxmin()]\n",
    "print(proveedor_min_precio)\n"
   ],
   "metadata": {
    "colab": {
     "base_uri": "https://localhost:8080/"
    },
    "id": "3oMYgrUklO77",
    "outputId": "5ed5a9b0-f268-4891-d277-da26782c010c"
   },
   "execution_count": null,
   "outputs": []
  },
  {
   "cell_type": "code",
   "source": [],
   "metadata": {
    "id": "pn9HtLcxpziP"
   },
   "execution_count": null,
   "outputs": []
  }
 ]
}
